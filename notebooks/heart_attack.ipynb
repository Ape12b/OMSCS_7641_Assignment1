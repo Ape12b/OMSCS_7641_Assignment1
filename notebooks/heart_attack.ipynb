{
 "cells": [
  {
   "cell_type": "code",
   "execution_count": 52,
   "metadata": {},
   "outputs": [],
   "source": [
    "# Import necessary libraries\n",
    "import pandas as pd\n",
    "import os\n",
    "from sklearn.model_selection import train_test_split\n",
    "from sklearn.tree import DecisionTreeClassifier, plot_tree\n",
    "from sklearn.model_selection import cross_val_score\n",
    "from sklearn.metrics import accuracy_score\n",
    "from sklearn import datasets\n",
    "from sklearn.model_selection import train_test_split\n",
    "from sklearn.preprocessing import StandardScaler\n",
    "from sklearn.tree import DecisionTreeClassifier\n",
    "from sklearn.svm import SVC\n",
    "from sklearn.metrics import accuracy_score, classification_report\n",
    "import matplotlib.pyplot as plt"
   ]
  },
  {
   "cell_type": "code",
   "execution_count": 53,
   "metadata": {},
   "outputs": [],
   "source": [
    "# Loading the dataset\n",
    "file_path = os.path.join(\"..\",\"data\", \"heart_attack_prediction\", \"heart.csv\")\n",
    "df = pd.read_csv(file_path)"
   ]
  },
  {
   "cell_type": "code",
   "execution_count": 54,
   "metadata": {},
   "outputs": [
    {
     "data": {
      "text/plain": [
       "0    704\n",
       "1    214\n",
       "Name: FastingBS, dtype: int64"
      ]
     },
     "execution_count": 54,
     "metadata": {},
     "output_type": "execute_result"
    }
   ],
   "source": [
    "df.FastingBS.value_counts()"
   ]
  },
  {
   "cell_type": "code",
   "execution_count": 55,
   "metadata": {},
   "outputs": [],
   "source": [
    "# Splitting the dataset into categorical and numerical columns\n",
    "cat_columns = ['Sex', 'ChestPainType', 'RestingECG','ExerciseAngina', 'ST_Slope']\n",
    "num_columns = [\"Age\", \"RestingBP\", \"Cholesterol\", \"MaxHR\", \"Oldpeak\"]\n",
    "\n",
    "# Since FastingBS is already a catagorical column with only 0, and 1 instead of normalizing it keep it as it is\n",
    "cat_num_columns = [\"FastingBS\"]"
   ]
  },
  {
   "cell_type": "code",
   "execution_count": 56,
   "metadata": {},
   "outputs": [
    {
     "data": {
      "text/plain": [
       "1    508\n",
       "0    410\n",
       "Name: HeartDisease, dtype: int64"
      ]
     },
     "execution_count": 56,
     "metadata": {},
     "output_type": "execute_result"
    }
   ],
   "source": [
    "# Splitting into data (X) and labels (y)\n",
    "X = df.drop(\"HeartDisease\", axis = 1)\n",
    "y = df[\"HeartDisease\"]\n",
    "y.value_counts()\n"
   ]
  },
  {
   "cell_type": "markdown",
   "metadata": {},
   "source": [
    "The data is a little unbalanced. Hence, I'll use two approaches:\n",
    "* Split the data randomly without taking into account class imbalance. \n",
    "* Split the data while accounting for class imbalance.\n"
   ]
  },
  {
   "cell_type": "markdown",
   "metadata": {},
   "source": [
    "## Random Splitting"
   ]
  },
  {
   "cell_type": "code",
   "execution_count": 57,
   "metadata": {},
   "outputs": [],
   "source": [
    "def data_split(X, y, test_size = 0.2, randomized = True):\n",
    "    if randomized:\n",
    "        X_train, X_test, y_train, y_test = train_test_split(X, y, test_size=0.2, random_state=42)\n",
    "    return X_train, X_test, y_train, y_test"
   ]
  },
  {
   "cell_type": "code",
   "execution_count": 58,
   "metadata": {},
   "outputs": [],
   "source": [
    "X_train, X_test, y_train, y_test = data_split(X, y, test_size = 0.2, randomized = True)\n",
    "    \n",
    "# One hotencoding the catagorical variables\n",
    "cat_data_train = pd.get_dummies(X_train[cat_columns],drop_first=True).reset_index().drop(\"index\", axis = 1)\n",
    "cat_data_test = pd.get_dummies(X_train[cat_columns],drop_first=True).reset_index().drop(\"index\", axis = 1)\n",
    "\n",
    "# Standardize features by removing the mean and scaling to unit variance\n",
    "scaler = StandardScaler()\n",
    "num_data_train = pd.DataFrame(scaler.fit_transform(X_train[num_columns]), columns=num_columns)\n",
    "num_data_test = pd.DataFrame(scaler.transform(X_test[num_columns]), columns=num_columns)\n",
    "\n",
    "# Concatinating all data to get the final dataset for Machine learning\n",
    "train_data = pd.concat([cat_data_train, num_data_train, X_train[cat_num_columns].reset_index().drop(\"index\", axis = 1)], axis = 1)\n",
    "test_data = pd.concat([cat_data_test, num_data_test, X_test[cat_num_columns].reset_index().drop(\"index\", axis = 1)], axis = 1)"
   ]
  },
  {
   "cell_type": "code",
   "execution_count": 59,
   "metadata": {},
   "outputs": [],
   "source": [
    "# Splitting into test and train set so that all normalizations can be done on train set alone\n",
    "X_train, X_test, y_train, y_test = data_split(X, y, test_size = 0.2, randomized = True)"
   ]
  },
  {
   "cell_type": "code",
   "execution_count": 60,
   "metadata": {},
   "outputs": [
    {
     "name": "stderr",
     "output_type": "stream",
     "text": [
      "C:\\Users\\apri4\\AppData\\Local\\Temp\\ipykernel_23400\\3226971841.py:1: FutureWarning: The default dtype for empty Series will be 'object' instead of 'float64' in a future version. Specify a dtype explicitly to silence this warning.\n",
      "  x = pd.Series()\n"
     ]
    },
    {
     "data": {
      "text/plain": [
       "True"
      ]
     },
     "execution_count": 60,
     "metadata": {},
     "output_type": "execute_result"
    }
   ],
   "source": [
    "x = pd.Series()\n",
    "x.empty"
   ]
  },
  {
   "cell_type": "code",
   "execution_count": 61,
   "metadata": {},
   "outputs": [
    {
     "name": "stderr",
     "output_type": "stream",
     "text": [
      "C:\\Users\\apri4\\AppData\\Local\\Temp\\ipykernel_23400\\276567189.py:1: FutureWarning: The default dtype for empty Series will be 'object' instead of 'float64' in a future version. Specify a dtype explicitly to silence this warning.\n",
      "  def data_preprocess(X_train, y_train, X_test = pd.Series(), y_test = pd.Series()):\n",
      "C:\\Users\\apri4\\AppData\\Local\\Temp\\ipykernel_23400\\276567189.py:1: FutureWarning: The default dtype for empty Series will be 'object' instead of 'float64' in a future version. Specify a dtype explicitly to silence this warning.\n",
      "  def data_preprocess(X_train, y_train, X_test = pd.Series(), y_test = pd.Series()):\n"
     ]
    }
   ],
   "source": [
    "def data_preprocess(X_train, y_train, X_test = pd.Series(), y_test = pd.Series()):\n",
    "    if not X_test.empty: \n",
    "        # One hotencoding the catagorical variables\n",
    "        cat_data_train = pd.get_dummies(X_train[cat_columns],drop_first=True).reset_index().drop(\"index\", axis = 1)\n",
    "        cat_data_test = pd.get_dummies(X_test[cat_columns],drop_first=True).reset_index().drop(\"index\", axis = 1)\n",
    "\n",
    "        # Standardize features by removing the mean and scaling to unit variance\n",
    "        scaler = StandardScaler()\n",
    "        num_data_train = pd.DataFrame(scaler.fit_transform(X_train[num_columns]), columns=num_columns)\n",
    "        num_data_test = pd.DataFrame(scaler.transform(X_test[num_columns]), columns=num_columns)\n",
    "\n",
    "        # Concatinating all data to get the final dataset for Machine learning\n",
    "        train_data = pd.concat([cat_data_train, num_data_train, X_train[cat_num_columns].reset_index().drop(\"index\", axis = 1)], axis = 1)\n",
    "        test_data = pd.concat([cat_data_test, num_data_test, X_test[cat_num_columns].reset_index().drop(\"index\", axis = 1)], axis = 1)\n",
    "        \n",
    "        # Returning the test and tran data alonw with labels\n",
    "        return train_data, test_data, y_train.reset_index().drop(\"index\", axis = 1), y_test.reset_index().drop(\"index\", axis = 1)\n",
    "    else:\n",
    "        # One hotencoding the catagorical variables\n",
    "        cat_data_train = pd.get_dummies(X_train[cat_columns],drop_first=True)\n",
    "\n",
    "        # Standardize features by removing the mean and scaling to unit variance\n",
    "        scaler = StandardScaler()\n",
    "        num_data_train = pd.DataFrame(scaler.fit_transform(X_train[num_columns]), columns=num_columns)\n",
    "\n",
    "        # Concatinating all data to get the final dataset for Machine learning\n",
    "        train_data = pd.concat([cat_data_train, num_data_train, X_train[cat_num_columns]], axis = 1)\n",
    "        \n",
    "        # Returning the test and tran data alonw with labels\n",
    "        return train_data, y_train"
   ]
  },
  {
   "cell_type": "code",
   "execution_count": 62,
   "metadata": {},
   "outputs": [],
   "source": [
    "train_data, test_data, y_train, y_test = data_preprocess(X_train, y_train, X_test, y_test)"
   ]
  },
  {
   "cell_type": "code",
   "execution_count": 70,
   "metadata": {},
   "outputs": [],
   "source": [
    "# Starting with a simple decision tree classifier\n",
    "clf = DecisionTreeClassifier(random_state=0)"
   ]
  },
  {
   "cell_type": "code",
   "execution_count": 71,
   "metadata": {},
   "outputs": [
    {
     "data": {
      "text/html": [
       "<style>#sk-container-id-3 {\n",
       "  /* Definition of color scheme common for light and dark mode */\n",
       "  --sklearn-color-text: black;\n",
       "  --sklearn-color-line: gray;\n",
       "  /* Definition of color scheme for unfitted estimators */\n",
       "  --sklearn-color-unfitted-level-0: #fff5e6;\n",
       "  --sklearn-color-unfitted-level-1: #f6e4d2;\n",
       "  --sklearn-color-unfitted-level-2: #ffe0b3;\n",
       "  --sklearn-color-unfitted-level-3: chocolate;\n",
       "  /* Definition of color scheme for fitted estimators */\n",
       "  --sklearn-color-fitted-level-0: #f0f8ff;\n",
       "  --sklearn-color-fitted-level-1: #d4ebff;\n",
       "  --sklearn-color-fitted-level-2: #b3dbfd;\n",
       "  --sklearn-color-fitted-level-3: cornflowerblue;\n",
       "\n",
       "  /* Specific color for light theme */\n",
       "  --sklearn-color-text-on-default-background: var(--sg-text-color, var(--theme-code-foreground, var(--jp-content-font-color1, black)));\n",
       "  --sklearn-color-background: var(--sg-background-color, var(--theme-background, var(--jp-layout-color0, white)));\n",
       "  --sklearn-color-border-box: var(--sg-text-color, var(--theme-code-foreground, var(--jp-content-font-color1, black)));\n",
       "  --sklearn-color-icon: #696969;\n",
       "\n",
       "  @media (prefers-color-scheme: dark) {\n",
       "    /* Redefinition of color scheme for dark theme */\n",
       "    --sklearn-color-text-on-default-background: var(--sg-text-color, var(--theme-code-foreground, var(--jp-content-font-color1, white)));\n",
       "    --sklearn-color-background: var(--sg-background-color, var(--theme-background, var(--jp-layout-color0, #111)));\n",
       "    --sklearn-color-border-box: var(--sg-text-color, var(--theme-code-foreground, var(--jp-content-font-color1, white)));\n",
       "    --sklearn-color-icon: #878787;\n",
       "  }\n",
       "}\n",
       "\n",
       "#sk-container-id-3 {\n",
       "  color: var(--sklearn-color-text);\n",
       "}\n",
       "\n",
       "#sk-container-id-3 pre {\n",
       "  padding: 0;\n",
       "}\n",
       "\n",
       "#sk-container-id-3 input.sk-hidden--visually {\n",
       "  border: 0;\n",
       "  clip: rect(1px 1px 1px 1px);\n",
       "  clip: rect(1px, 1px, 1px, 1px);\n",
       "  height: 1px;\n",
       "  margin: -1px;\n",
       "  overflow: hidden;\n",
       "  padding: 0;\n",
       "  position: absolute;\n",
       "  width: 1px;\n",
       "}\n",
       "\n",
       "#sk-container-id-3 div.sk-dashed-wrapped {\n",
       "  border: 1px dashed var(--sklearn-color-line);\n",
       "  margin: 0 0.4em 0.5em 0.4em;\n",
       "  box-sizing: border-box;\n",
       "  padding-bottom: 0.4em;\n",
       "  background-color: var(--sklearn-color-background);\n",
       "}\n",
       "\n",
       "#sk-container-id-3 div.sk-container {\n",
       "  /* jupyter's `normalize.less` sets `[hidden] { display: none; }`\n",
       "     but bootstrap.min.css set `[hidden] { display: none !important; }`\n",
       "     so we also need the `!important` here to be able to override the\n",
       "     default hidden behavior on the sphinx rendered scikit-learn.org.\n",
       "     See: https://github.com/scikit-learn/scikit-learn/issues/21755 */\n",
       "  display: inline-block !important;\n",
       "  position: relative;\n",
       "}\n",
       "\n",
       "#sk-container-id-3 div.sk-text-repr-fallback {\n",
       "  display: none;\n",
       "}\n",
       "\n",
       "div.sk-parallel-item,\n",
       "div.sk-serial,\n",
       "div.sk-item {\n",
       "  /* draw centered vertical line to link estimators */\n",
       "  background-image: linear-gradient(var(--sklearn-color-text-on-default-background), var(--sklearn-color-text-on-default-background));\n",
       "  background-size: 2px 100%;\n",
       "  background-repeat: no-repeat;\n",
       "  background-position: center center;\n",
       "}\n",
       "\n",
       "/* Parallel-specific style estimator block */\n",
       "\n",
       "#sk-container-id-3 div.sk-parallel-item::after {\n",
       "  content: \"\";\n",
       "  width: 100%;\n",
       "  border-bottom: 2px solid var(--sklearn-color-text-on-default-background);\n",
       "  flex-grow: 1;\n",
       "}\n",
       "\n",
       "#sk-container-id-3 div.sk-parallel {\n",
       "  display: flex;\n",
       "  align-items: stretch;\n",
       "  justify-content: center;\n",
       "  background-color: var(--sklearn-color-background);\n",
       "  position: relative;\n",
       "}\n",
       "\n",
       "#sk-container-id-3 div.sk-parallel-item {\n",
       "  display: flex;\n",
       "  flex-direction: column;\n",
       "}\n",
       "\n",
       "#sk-container-id-3 div.sk-parallel-item:first-child::after {\n",
       "  align-self: flex-end;\n",
       "  width: 50%;\n",
       "}\n",
       "\n",
       "#sk-container-id-3 div.sk-parallel-item:last-child::after {\n",
       "  align-self: flex-start;\n",
       "  width: 50%;\n",
       "}\n",
       "\n",
       "#sk-container-id-3 div.sk-parallel-item:only-child::after {\n",
       "  width: 0;\n",
       "}\n",
       "\n",
       "/* Serial-specific style estimator block */\n",
       "\n",
       "#sk-container-id-3 div.sk-serial {\n",
       "  display: flex;\n",
       "  flex-direction: column;\n",
       "  align-items: center;\n",
       "  background-color: var(--sklearn-color-background);\n",
       "  padding-right: 1em;\n",
       "  padding-left: 1em;\n",
       "}\n",
       "\n",
       "\n",
       "/* Toggleable style: style used for estimator/Pipeline/ColumnTransformer box that is\n",
       "clickable and can be expanded/collapsed.\n",
       "- Pipeline and ColumnTransformer use this feature and define the default style\n",
       "- Estimators will overwrite some part of the style using the `sk-estimator` class\n",
       "*/\n",
       "\n",
       "/* Pipeline and ColumnTransformer style (default) */\n",
       "\n",
       "#sk-container-id-3 div.sk-toggleable {\n",
       "  /* Default theme specific background. It is overwritten whether we have a\n",
       "  specific estimator or a Pipeline/ColumnTransformer */\n",
       "  background-color: var(--sklearn-color-background);\n",
       "}\n",
       "\n",
       "/* Toggleable label */\n",
       "#sk-container-id-3 label.sk-toggleable__label {\n",
       "  cursor: pointer;\n",
       "  display: block;\n",
       "  width: 100%;\n",
       "  margin-bottom: 0;\n",
       "  padding: 0.5em;\n",
       "  box-sizing: border-box;\n",
       "  text-align: center;\n",
       "}\n",
       "\n",
       "#sk-container-id-3 label.sk-toggleable__label-arrow:before {\n",
       "  /* Arrow on the left of the label */\n",
       "  content: \"▸\";\n",
       "  float: left;\n",
       "  margin-right: 0.25em;\n",
       "  color: var(--sklearn-color-icon);\n",
       "}\n",
       "\n",
       "#sk-container-id-3 label.sk-toggleable__label-arrow:hover:before {\n",
       "  color: var(--sklearn-color-text);\n",
       "}\n",
       "\n",
       "/* Toggleable content - dropdown */\n",
       "\n",
       "#sk-container-id-3 div.sk-toggleable__content {\n",
       "  max-height: 0;\n",
       "  max-width: 0;\n",
       "  overflow: hidden;\n",
       "  text-align: left;\n",
       "  /* unfitted */\n",
       "  background-color: var(--sklearn-color-unfitted-level-0);\n",
       "}\n",
       "\n",
       "#sk-container-id-3 div.sk-toggleable__content.fitted {\n",
       "  /* fitted */\n",
       "  background-color: var(--sklearn-color-fitted-level-0);\n",
       "}\n",
       "\n",
       "#sk-container-id-3 div.sk-toggleable__content pre {\n",
       "  margin: 0.2em;\n",
       "  border-radius: 0.25em;\n",
       "  color: var(--sklearn-color-text);\n",
       "  /* unfitted */\n",
       "  background-color: var(--sklearn-color-unfitted-level-0);\n",
       "}\n",
       "\n",
       "#sk-container-id-3 div.sk-toggleable__content.fitted pre {\n",
       "  /* unfitted */\n",
       "  background-color: var(--sklearn-color-fitted-level-0);\n",
       "}\n",
       "\n",
       "#sk-container-id-3 input.sk-toggleable__control:checked~div.sk-toggleable__content {\n",
       "  /* Expand drop-down */\n",
       "  max-height: 200px;\n",
       "  max-width: 100%;\n",
       "  overflow: auto;\n",
       "}\n",
       "\n",
       "#sk-container-id-3 input.sk-toggleable__control:checked~label.sk-toggleable__label-arrow:before {\n",
       "  content: \"▾\";\n",
       "}\n",
       "\n",
       "/* Pipeline/ColumnTransformer-specific style */\n",
       "\n",
       "#sk-container-id-3 div.sk-label input.sk-toggleable__control:checked~label.sk-toggleable__label {\n",
       "  color: var(--sklearn-color-text);\n",
       "  background-color: var(--sklearn-color-unfitted-level-2);\n",
       "}\n",
       "\n",
       "#sk-container-id-3 div.sk-label.fitted input.sk-toggleable__control:checked~label.sk-toggleable__label {\n",
       "  background-color: var(--sklearn-color-fitted-level-2);\n",
       "}\n",
       "\n",
       "/* Estimator-specific style */\n",
       "\n",
       "/* Colorize estimator box */\n",
       "#sk-container-id-3 div.sk-estimator input.sk-toggleable__control:checked~label.sk-toggleable__label {\n",
       "  /* unfitted */\n",
       "  background-color: var(--sklearn-color-unfitted-level-2);\n",
       "}\n",
       "\n",
       "#sk-container-id-3 div.sk-estimator.fitted input.sk-toggleable__control:checked~label.sk-toggleable__label {\n",
       "  /* fitted */\n",
       "  background-color: var(--sklearn-color-fitted-level-2);\n",
       "}\n",
       "\n",
       "#sk-container-id-3 div.sk-label label.sk-toggleable__label,\n",
       "#sk-container-id-3 div.sk-label label {\n",
       "  /* The background is the default theme color */\n",
       "  color: var(--sklearn-color-text-on-default-background);\n",
       "}\n",
       "\n",
       "/* On hover, darken the color of the background */\n",
       "#sk-container-id-3 div.sk-label:hover label.sk-toggleable__label {\n",
       "  color: var(--sklearn-color-text);\n",
       "  background-color: var(--sklearn-color-unfitted-level-2);\n",
       "}\n",
       "\n",
       "/* Label box, darken color on hover, fitted */\n",
       "#sk-container-id-3 div.sk-label.fitted:hover label.sk-toggleable__label.fitted {\n",
       "  color: var(--sklearn-color-text);\n",
       "  background-color: var(--sklearn-color-fitted-level-2);\n",
       "}\n",
       "\n",
       "/* Estimator label */\n",
       "\n",
       "#sk-container-id-3 div.sk-label label {\n",
       "  font-family: monospace;\n",
       "  font-weight: bold;\n",
       "  display: inline-block;\n",
       "  line-height: 1.2em;\n",
       "}\n",
       "\n",
       "#sk-container-id-3 div.sk-label-container {\n",
       "  text-align: center;\n",
       "}\n",
       "\n",
       "/* Estimator-specific */\n",
       "#sk-container-id-3 div.sk-estimator {\n",
       "  font-family: monospace;\n",
       "  border: 1px dotted var(--sklearn-color-border-box);\n",
       "  border-radius: 0.25em;\n",
       "  box-sizing: border-box;\n",
       "  margin-bottom: 0.5em;\n",
       "  /* unfitted */\n",
       "  background-color: var(--sklearn-color-unfitted-level-0);\n",
       "}\n",
       "\n",
       "#sk-container-id-3 div.sk-estimator.fitted {\n",
       "  /* fitted */\n",
       "  background-color: var(--sklearn-color-fitted-level-0);\n",
       "}\n",
       "\n",
       "/* on hover */\n",
       "#sk-container-id-3 div.sk-estimator:hover {\n",
       "  /* unfitted */\n",
       "  background-color: var(--sklearn-color-unfitted-level-2);\n",
       "}\n",
       "\n",
       "#sk-container-id-3 div.sk-estimator.fitted:hover {\n",
       "  /* fitted */\n",
       "  background-color: var(--sklearn-color-fitted-level-2);\n",
       "}\n",
       "\n",
       "/* Specification for estimator info (e.g. \"i\" and \"?\") */\n",
       "\n",
       "/* Common style for \"i\" and \"?\" */\n",
       "\n",
       ".sk-estimator-doc-link,\n",
       "a:link.sk-estimator-doc-link,\n",
       "a:visited.sk-estimator-doc-link {\n",
       "  float: right;\n",
       "  font-size: smaller;\n",
       "  line-height: 1em;\n",
       "  font-family: monospace;\n",
       "  background-color: var(--sklearn-color-background);\n",
       "  border-radius: 1em;\n",
       "  height: 1em;\n",
       "  width: 1em;\n",
       "  text-decoration: none !important;\n",
       "  margin-left: 1ex;\n",
       "  /* unfitted */\n",
       "  border: var(--sklearn-color-unfitted-level-1) 1pt solid;\n",
       "  color: var(--sklearn-color-unfitted-level-1);\n",
       "}\n",
       "\n",
       ".sk-estimator-doc-link.fitted,\n",
       "a:link.sk-estimator-doc-link.fitted,\n",
       "a:visited.sk-estimator-doc-link.fitted {\n",
       "  /* fitted */\n",
       "  border: var(--sklearn-color-fitted-level-1) 1pt solid;\n",
       "  color: var(--sklearn-color-fitted-level-1);\n",
       "}\n",
       "\n",
       "/* On hover */\n",
       "div.sk-estimator:hover .sk-estimator-doc-link:hover,\n",
       ".sk-estimator-doc-link:hover,\n",
       "div.sk-label-container:hover .sk-estimator-doc-link:hover,\n",
       ".sk-estimator-doc-link:hover {\n",
       "  /* unfitted */\n",
       "  background-color: var(--sklearn-color-unfitted-level-3);\n",
       "  color: var(--sklearn-color-background);\n",
       "  text-decoration: none;\n",
       "}\n",
       "\n",
       "div.sk-estimator.fitted:hover .sk-estimator-doc-link.fitted:hover,\n",
       ".sk-estimator-doc-link.fitted:hover,\n",
       "div.sk-label-container:hover .sk-estimator-doc-link.fitted:hover,\n",
       ".sk-estimator-doc-link.fitted:hover {\n",
       "  /* fitted */\n",
       "  background-color: var(--sklearn-color-fitted-level-3);\n",
       "  color: var(--sklearn-color-background);\n",
       "  text-decoration: none;\n",
       "}\n",
       "\n",
       "/* Span, style for the box shown on hovering the info icon */\n",
       ".sk-estimator-doc-link span {\n",
       "  display: none;\n",
       "  z-index: 9999;\n",
       "  position: relative;\n",
       "  font-weight: normal;\n",
       "  right: .2ex;\n",
       "  padding: .5ex;\n",
       "  margin: .5ex;\n",
       "  width: min-content;\n",
       "  min-width: 20ex;\n",
       "  max-width: 50ex;\n",
       "  color: var(--sklearn-color-text);\n",
       "  box-shadow: 2pt 2pt 4pt #999;\n",
       "  /* unfitted */\n",
       "  background: var(--sklearn-color-unfitted-level-0);\n",
       "  border: .5pt solid var(--sklearn-color-unfitted-level-3);\n",
       "}\n",
       "\n",
       ".sk-estimator-doc-link.fitted span {\n",
       "  /* fitted */\n",
       "  background: var(--sklearn-color-fitted-level-0);\n",
       "  border: var(--sklearn-color-fitted-level-3);\n",
       "}\n",
       "\n",
       ".sk-estimator-doc-link:hover span {\n",
       "  display: block;\n",
       "}\n",
       "\n",
       "/* \"?\"-specific style due to the `<a>` HTML tag */\n",
       "\n",
       "#sk-container-id-3 a.estimator_doc_link {\n",
       "  float: right;\n",
       "  font-size: 1rem;\n",
       "  line-height: 1em;\n",
       "  font-family: monospace;\n",
       "  background-color: var(--sklearn-color-background);\n",
       "  border-radius: 1rem;\n",
       "  height: 1rem;\n",
       "  width: 1rem;\n",
       "  text-decoration: none;\n",
       "  /* unfitted */\n",
       "  color: var(--sklearn-color-unfitted-level-1);\n",
       "  border: var(--sklearn-color-unfitted-level-1) 1pt solid;\n",
       "}\n",
       "\n",
       "#sk-container-id-3 a.estimator_doc_link.fitted {\n",
       "  /* fitted */\n",
       "  border: var(--sklearn-color-fitted-level-1) 1pt solid;\n",
       "  color: var(--sklearn-color-fitted-level-1);\n",
       "}\n",
       "\n",
       "/* On hover */\n",
       "#sk-container-id-3 a.estimator_doc_link:hover {\n",
       "  /* unfitted */\n",
       "  background-color: var(--sklearn-color-unfitted-level-3);\n",
       "  color: var(--sklearn-color-background);\n",
       "  text-decoration: none;\n",
       "}\n",
       "\n",
       "#sk-container-id-3 a.estimator_doc_link.fitted:hover {\n",
       "  /* fitted */\n",
       "  background-color: var(--sklearn-color-fitted-level-3);\n",
       "}\n",
       "</style><div id=\"sk-container-id-3\" class=\"sk-top-container\"><div class=\"sk-text-repr-fallback\"><pre>DecisionTreeClassifier(random_state=0)</pre><b>In a Jupyter environment, please rerun this cell to show the HTML representation or trust the notebook. <br />On GitHub, the HTML representation is unable to render, please try loading this page with nbviewer.org.</b></div><div class=\"sk-container\" hidden><div class=\"sk-item\"><div class=\"sk-estimator fitted sk-toggleable\"><input class=\"sk-toggleable__control sk-hidden--visually\" id=\"sk-estimator-id-3\" type=\"checkbox\" checked><label for=\"sk-estimator-id-3\" class=\"sk-toggleable__label fitted sk-toggleable__label-arrow fitted\">&nbsp;&nbsp;DecisionTreeClassifier<a class=\"sk-estimator-doc-link fitted\" rel=\"noreferrer\" target=\"_blank\" href=\"https://scikit-learn.org/1.4/modules/generated/sklearn.tree.DecisionTreeClassifier.html\">?<span>Documentation for DecisionTreeClassifier</span></a><span class=\"sk-estimator-doc-link fitted\">i<span>Fitted</span></span></label><div class=\"sk-toggleable__content fitted\"><pre>DecisionTreeClassifier(random_state=0)</pre></div> </div></div></div></div>"
      ],
      "text/plain": [
       "DecisionTreeClassifier(random_state=0)"
      ]
     },
     "execution_count": 71,
     "metadata": {},
     "output_type": "execute_result"
    }
   ],
   "source": [
    "clf.fit(train_data, y_train)"
   ]
  },
  {
   "cell_type": "markdown",
   "metadata": {},
   "source": [
    "Get the dept of the full tree to use for pre pruning using max_depth feature."
   ]
  },
  {
   "cell_type": "code",
   "execution_count": 73,
   "metadata": {},
   "outputs": [
    {
     "name": "stdout",
     "output_type": "stream",
     "text": [
      "14\n"
     ]
    }
   ],
   "source": [
    "max_depth = clf.get_depth()\n",
    "print(max_depth)"
   ]
  },
  {
   "cell_type": "code",
   "execution_count": 65,
   "metadata": {},
   "outputs": [],
   "source": [
    "y_pred = clf.predict(test_data)"
   ]
  },
  {
   "cell_type": "code",
   "execution_count": 66,
   "metadata": {},
   "outputs": [
    {
     "data": {
      "text/plain": [
       "0.842391304347826"
      ]
     },
     "execution_count": 66,
     "metadata": {},
     "output_type": "execute_result"
    }
   ],
   "source": [
    "acc = accuracy_score(y_test, y_pred)\n",
    "acc"
   ]
  },
  {
   "cell_type": "code",
   "execution_count": 67,
   "metadata": {},
   "outputs": [
    {
     "name": "stdout",
     "output_type": "stream",
     "text": [
      "              precision    recall  f1-score   support\n",
      "\n",
      "           0       0.82      0.81      0.81        77\n",
      "           1       0.86      0.87      0.87       107\n",
      "\n",
      "    accuracy                           0.84       184\n",
      "   macro avg       0.84      0.84      0.84       184\n",
      "weighted avg       0.84      0.84      0.84       184\n",
      "\n"
     ]
    }
   ],
   "source": [
    "print(classification_report(y_test, y_pred))"
   ]
  },
  {
   "cell_type": "code",
   "execution_count": 68,
   "metadata": {},
   "outputs": [
    {
     "data": {
      "text/plain": [
       "array([0.81521739, 0.83695652, 0.75      , 0.7173913 , 0.82608696,\n",
       "       0.77173913, 0.75      , 0.65217391, 0.71428571, 0.71428571])"
      ]
     },
     "execution_count": 68,
     "metadata": {},
     "output_type": "execute_result"
    }
   ],
   "source": [
    "X_processed, y = data_preprocess(X, y)\n",
    "cross_val_score(clf, X_processed, y, cv=10)"
   ]
  },
  {
   "cell_type": "code",
   "execution_count": null,
   "metadata": {},
   "outputs": [],
   "source": [
    "plt.figure(figsize=(10,10))\n",
    "plot_tree(clf)"
   ]
  },
  {
   "cell_type": "markdown",
   "metadata": {},
   "source": [
    "## Performing Pruning\n",
    "\n",
    "* Prepruning by controlling the max depth\n",
    "* Post pruning using cost complexity pruning"
   ]
  },
  {
   "cell_type": "markdown",
   "metadata": {},
   "source": [
    "### Prepruning"
   ]
  },
  {
   "cell_type": "code",
   "execution_count": 74,
   "metadata": {},
   "outputs": [],
   "source": [
    "clfs = []\n",
    "for depth in range(1, max_depth + 1):\n",
    "    clf = DecisionTreeClassifier(max_depth= depth, random_state=0)\n",
    "    clf.fit(train_data, y_train)\n",
    "    clfs.append(clf)\n",
    "    "
   ]
  },
  {
   "cell_type": "code",
   "execution_count": null,
   "metadata": {},
   "outputs": [],
   "source": [
    "def plot_scores(clfs, hyper_param = [], hyper_param_names = []):\n",
    "    train_scores = [clf.score(train_data, y_train) for clf in clfs]\n",
    "    test_scores = [clf.score(test_data, y_test) for clf in clfs]\n",
    "\n",
    "    fig, ax = plt.subplots(figsize=(10,10))\n",
    "    ax.set_xlabel(\"alpha\")\n",
    "    ax.set_ylabel(\"accuracy\")\n",
    "    ax.set_title(\"Accuracy vs alpha for training and testing sets\")\n",
    "    ax.plot(ccp_alphas[:-1], train_scores[:-1], marker=\"o\", label=\"train\", drawstyle=\"steps-post\")\n",
    "    ax.plot(ccp_alphas[:-1], test_scores[:-1], marker=\"o\", label=\"test\", drawstyle=\"steps-post\")\n",
    "    ax.legend()\n",
    "    plt.show()\n"
   ]
  },
  {
   "cell_type": "code",
   "execution_count": null,
   "metadata": {},
   "outputs": [],
   "source": []
  },
  {
   "cell_type": "code",
   "execution_count": null,
   "metadata": {},
   "outputs": [],
   "source": []
  },
  {
   "cell_type": "code",
   "execution_count": null,
   "metadata": {},
   "outputs": [],
   "source": []
  },
  {
   "cell_type": "markdown",
   "metadata": {},
   "source": [
    "### Post pruning: Cost complexity pruning"
   ]
  },
  {
   "cell_type": "code",
   "execution_count": 46,
   "metadata": {},
   "outputs": [],
   "source": [
    "clf_pruned = DecisionTreeClassifier(random_state=0)\n",
    "path = clf_pruned.cost_complexity_pruning_path(train_data, y_train)\n",
    "ccp_alphas, impurities = path.ccp_alphas, path.impurities"
   ]
  },
  {
   "cell_type": "code",
   "execution_count": 48,
   "metadata": {},
   "outputs": [
    {
     "name": "stdout",
     "output_type": "stream",
     "text": [
      "Number of nodes in the last tree is: 231 with ccp_alpha: 0.0\n",
      "Number of nodes in the last tree is: 223 with ccp_alpha: 0.0006698455949137152\n",
      "Number of nodes in the last tree is: 211 with ccp_alpha: 0.0008763962585847\n",
      "Number of nodes in the last tree is: 205 with ccp_alpha: 0.000899272488556757\n",
      "Number of nodes in the last tree is: 201 with ccp_alpha: 0.0011353315168029065\n",
      "Number of nodes in the last tree is: 197 with ccp_alpha: 0.0011677695601401326\n",
      "Number of nodes in the last tree is: 189 with ccp_alpha: 0.0012534059945504086\n",
      "Number of nodes in the last tree is: 185 with ccp_alpha: 0.0012569951702860113\n",
      "Number of nodes in the last tree is: 181 with ccp_alpha: 0.001257597987843219\n",
      "Number of nodes in the last tree is: 177 with ccp_alpha: 0.0012650836901518104\n",
      "Number of nodes in the last tree is: 173 with ccp_alpha: 0.0012715712988192556\n",
      "Number of nodes in the last tree is: 169 with ccp_alpha: 0.001298603001600274\n",
      "Number of nodes in the last tree is: 165 with ccp_alpha: 0.0013056312443233433\n",
      "Number of nodes in the last tree is: 161 with ccp_alpha: 0.0013119386416389136\n",
      "Number of nodes in the last tree is: 157 with ccp_alpha: 0.0013229782542816075\n",
      "Number of nodes in the last tree is: 149 with ccp_alpha: 0.001352793374251139\n",
      "Number of nodes in the last tree is: 145 with ccp_alpha: 0.0015570260801868428\n",
      "Number of nodes in the last tree is: 139 with ccp_alpha: 0.0016819726174857874\n",
      "Number of nodes in the last tree is: 125 with ccp_alpha: 0.0018165304268846503\n",
      "Number of nodes in the last tree is: 125 with ccp_alpha: 0.0018165304268846503\n",
      "Number of nodes in the last tree is: 125 with ccp_alpha: 0.0018165304268846503\n",
      "Number of nodes in the last tree is: 125 with ccp_alpha: 0.0018165304268846503\n",
      "Number of nodes in the last tree is: 125 with ccp_alpha: 0.0018165304268846503\n",
      "Number of nodes in the last tree is: 125 with ccp_alpha: 0.0018165304268846503\n",
      "Number of nodes in the last tree is: 119 with ccp_alpha: 0.001897340990987914\n",
      "Number of nodes in the last tree is: 111 with ccp_alpha: 0.0019526709666355425\n",
      "Number of nodes in the last tree is: 109 with ccp_alpha: 0.0020435967302452314\n",
      "Number of nodes in the last tree is: 103 with ccp_alpha: 0.002058734483802603\n",
      "Number of nodes in the last tree is: 99 with ccp_alpha: 0.0020760347735824577\n",
      "Number of nodes in the last tree is: 99 with ccp_alpha: 0.0020760347735824577\n",
      "Number of nodes in the last tree is: 93 with ccp_alpha: 0.0021024657718572344\n",
      "Number of nodes in the last tree is: 91 with ccp_alpha: 0.0022175644518968784\n",
      "Number of nodes in the last tree is: 87 with ccp_alpha: 0.002235729756165724\n",
      "Number of nodes in the last tree is: 85 with ccp_alpha: 0.002270663033605813\n",
      "Number of nodes in the last tree is: 83 with ccp_alpha: 0.002309962970725914\n",
      "Number of nodes in the last tree is: 69 with ccp_alpha: 0.002384860899288916\n",
      "Number of nodes in the last tree is: 65 with ccp_alpha: 0.0024328532502919417\n",
      "Number of nodes in the last tree is: 59 with ccp_alpha: 0.00245849648218772\n",
      "Number of nodes in the last tree is: 57 with ccp_alpha: 0.002573418104753255\n",
      "Number of nodes in the last tree is: 53 with ccp_alpha: 0.0025950434669780712\n",
      "Number of nodes in the last tree is: 49 with ccp_alpha: 0.0027290266894579186\n",
      "Number of nodes in the last tree is: 47 with ccp_alpha: 0.002747502270663036\n",
      "Number of nodes in the last tree is: 45 with ccp_alpha: 0.0027946621952071524\n",
      "Number of nodes in the last tree is: 41 with ccp_alpha: 0.002832614006564739\n",
      "Number of nodes in the last tree is: 39 with ccp_alpha: 0.0029194239003503333\n",
      "Number of nodes in the last tree is: 37 with ccp_alpha: 0.0030275507114744197\n",
      "Number of nodes in the last tree is: 29 with ccp_alpha: 0.00321469326918918\n",
      "Number of nodes in the last tree is: 25 with ccp_alpha: 0.003763795998128424\n",
      "Number of nodes in the last tree is: 23 with ccp_alpha: 0.004541326067211626\n",
      "Number of nodes in the last tree is: 21 with ccp_alpha: 0.004755656230538183\n",
      "Number of nodes in the last tree is: 19 with ccp_alpha: 0.006055101422948834\n",
      "Number of nodes in the last tree is: 17 with ccp_alpha: 0.006515145206780686\n",
      "Number of nodes in the last tree is: 15 with ccp_alpha: 0.006622767181350285\n",
      "Number of nodes in the last tree is: 13 with ccp_alpha: 0.007273690584317288\n",
      "Number of nodes in the last tree is: 11 with ccp_alpha: 0.007662048585792683\n",
      "Number of nodes in the last tree is: 9 with ccp_alpha: 0.008507586894012556\n",
      "Number of nodes in the last tree is: 7 with ccp_alpha: 0.012857913847413818\n",
      "Number of nodes in the last tree is: 5 with ccp_alpha: 0.01786047398000795\n",
      "Number of nodes in the last tree is: 3 with ccp_alpha: 0.025477561384554412\n",
      "Number of nodes in the last tree is: 1 with ccp_alpha: 0.1973071658134123\n"
     ]
    }
   ],
   "source": [
    "clfs = []\n",
    "for ccp_alpha in ccp_alphas:\n",
    "    clf = DecisionTreeClassifier(random_state=0, ccp_alpha=ccp_alpha)\n",
    "    clf.fit(train_data, y_train)\n",
    "    clfs.append(clf)\n",
    "    print(\n",
    "        \"Number of nodes in the last tree is: {} with ccp_alpha: {}\".format(\n",
    "            clfs[-1].tree_.node_count, ccp_alpha\n",
    "        )\n",
    "    )"
   ]
  },
  {
   "cell_type": "code",
   "execution_count": null,
   "metadata": {},
   "outputs": [],
   "source": []
  },
  {
   "cell_type": "code",
   "execution_count": null,
   "metadata": {},
   "outputs": [],
   "source": []
  },
  {
   "cell_type": "markdown",
   "metadata": {},
   "source": [
    "# Support Vector Machines"
   ]
  },
  {
   "cell_type": "code",
   "execution_count": 75,
   "metadata": {},
   "outputs": [
    {
     "name": "stdout",
     "output_type": "stream",
     "text": [
      "Accuracy: 0.8532608695652174\n",
      "\n",
      "Classification Report:\n",
      "               precision    recall  f1-score   support\n",
      "\n",
      "           0       0.83      0.82      0.82        77\n",
      "           1       0.87      0.88      0.87       107\n",
      "\n",
      "    accuracy                           0.85       184\n",
      "   macro avg       0.85      0.85      0.85       184\n",
      "weighted avg       0.85      0.85      0.85       184\n",
      "\n"
     ]
    },
    {
     "name": "stderr",
     "output_type": "stream",
     "text": [
      "d:\\GATech\\Assignment1\\.venv\\Lib\\site-packages\\sklearn\\utils\\validation.py:1229: DataConversionWarning: A column-vector y was passed when a 1d array was expected. Please change the shape of y to (n_samples, ), for example using ravel().\n",
      "  y = column_or_1d(y, warn=True)\n"
     ]
    }
   ],
   "source": [
    "# Import necessary libraries\n",
    "from sklearn import datasets\n",
    "from sklearn.model_selection import train_test_split\n",
    "from sklearn.preprocessing import StandardScaler\n",
    "from sklearn.svm import SVC\n",
    "from sklearn.metrics import accuracy_score, classification_report\n",
    "\n",
    "# Create an SVM classifier with a radial basis function (RBF) kernel\n",
    "svm_classifier = SVC(kernel='rbf', C=1.0, gamma='scale', decision_function_shape='ovr')\n",
    "\n",
    "# Train the SVM classifier\n",
    "svm_classifier.fit(train_data, y_train)\n",
    "\n",
    "# Make predictions on the test set\n",
    "y_pred = svm_classifier.predict(test_data)\n",
    "\n",
    "# Evaluate the model\n",
    "accuracy = accuracy_score(y_test, y_pred)\n",
    "report = classification_report(y_test, y_pred)\n",
    "\n",
    "print(f\"Accuracy: {accuracy}\")\n",
    "print(\"\\nClassification Report:\\n\", report)"
   ]
  },
  {
   "cell_type": "code",
   "execution_count": 76,
   "metadata": {},
   "outputs": [
    {
     "name": "stdout",
     "output_type": "stream",
     "text": [
      "Linear Kernel Accuracy: 0.8267\n",
      "Polynomial Kernel Accuracy: 0.8256\n",
      "RBF Kernel Accuracy: 0.8311\n",
      "Sigmoid Kernel Accuracy: 0.7527\n",
      "Custom Kernel Accuracy: 0.8267\n"
     ]
    }
   ],
   "source": [
    "from sklearn.model_selection import cross_val_score\n",
    "from sklearn.svm import SVC\n",
    "import numpy as np\n",
    "\n",
    "def perform_cross_validation(X, y, kernel_type='linear', num_folds=5):\n",
    "    \"\"\"\n",
    "    Perform cross-validation for Support Vector Classification (SVC) with different kernels.\n",
    "\n",
    "    Parameters:\n",
    "    - X: Input features.\n",
    "    - y: Target variable.\n",
    "    - kernel_type: Type of kernel to be used ('linear', 'poly', 'rbf', 'sigmoid', or 'custom').\n",
    "    - num_folds: Number of folds for cross-validation.\n",
    "\n",
    "    Returns:\n",
    "    - Mean accuracy across folds.\n",
    "    \"\"\"\n",
    "\n",
    "    if kernel_type == 'custom':\n",
    "        # If using a custom kernel, define your custom kernel function here\n",
    "        def custom_kernel(x, y):\n",
    "            # Your custom kernel function\n",
    "            return np.dot(x, y.T)\n",
    "\n",
    "        clf = SVC(kernel=custom_kernel)\n",
    "    else:\n",
    "        clf = SVC(kernel=kernel_type)\n",
    "\n",
    "    # Perform cross-validation and get accuracy scores for each fold\n",
    "    scores = cross_val_score(clf, X, y, cv=num_folds)\n",
    "\n",
    "    # Return the mean accuracy across folds\n",
    "    return np.mean(scores)\n",
    "\n",
    "# Example usage:\n",
    "# Assuming you have your features (X) and target variable (y) ready\n",
    "\n",
    "# Example with Linear Kernel\n",
    "linear_accuracy = perform_cross_validation(X_processed, y, kernel_type='linear')\n",
    "print(f'Linear Kernel Accuracy: {linear_accuracy:.4f}')\n",
    "\n",
    "# Example with Polynomial Kernel\n",
    "poly_accuracy = perform_cross_validation(X_processed, y, kernel_type='poly')\n",
    "print(f'Polynomial Kernel Accuracy: {poly_accuracy:.4f}')\n",
    "\n",
    "# Example with RBF Kernel\n",
    "rbf_accuracy = perform_cross_validation(X_processed, y, kernel_type='rbf')\n",
    "print(f'RBF Kernel Accuracy: {rbf_accuracy:.4f}')\n",
    "\n",
    "# Example with Sigmoid Kernel\n",
    "sigmoid_accuracy = perform_cross_validation(X_processed, y, kernel_type='sigmoid')\n",
    "print(f'Sigmoid Kernel Accuracy: {sigmoid_accuracy:.4f}')\n",
    "\n",
    "# Example with Custom Kernel\n",
    "custom_accuracy = perform_cross_validation(X_processed, y, kernel_type='custom')\n",
    "print(f'Custom Kernel Accuracy: {custom_accuracy:.4f}')"
   ]
  },
  {
   "cell_type": "markdown",
   "metadata": {},
   "source": []
  }
 ],
 "metadata": {
  "kernelspec": {
   "display_name": ".venv",
   "language": "python",
   "name": "python3"
  },
  "language_info": {
   "codemirror_mode": {
    "name": "ipython",
    "version": 3
   },
   "file_extension": ".py",
   "mimetype": "text/x-python",
   "name": "python",
   "nbconvert_exporter": "python",
   "pygments_lexer": "ipython3",
   "version": "3.11.7"
  }
 },
 "nbformat": 4,
 "nbformat_minor": 2
}
